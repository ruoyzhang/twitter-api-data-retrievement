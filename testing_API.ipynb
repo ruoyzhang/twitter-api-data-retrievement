{
 "cells": [
  {
   "cell_type": "markdown",
   "metadata": {},
   "source": [
    "### this section we test out getting a bearer token"
   ]
  },
  {
   "cell_type": "code",
   "execution_count": 1,
   "metadata": {},
   "outputs": [],
   "source": [
    "import base64\n",
    "import requests\n",
    "import urllib.parse"
   ]
  },
  {
   "cell_type": "code",
   "execution_count": 2,
   "metadata": {},
   "outputs": [],
   "source": [
    "OAUTH2_TOKEN = 'https://api.twitter.com/oauth2/token'"
   ]
  },
  {
   "cell_type": "code",
   "execution_count": 3,
   "metadata": {},
   "outputs": [],
   "source": [
    "def get_bearer_token(consumer_key, consumer_secret):\n",
    "    # enconde consumer key\n",
    "    consumer_key = urllib.parse.quote(consumer_key)\n",
    "    # encode consumer secret\n",
    "    consumer_secret = urllib.parse.quote(consumer_secret)\n",
    "    # create bearer token\n",
    "    bearer_token = consumer_key + ':' + consumer_secret\n",
    "    # base64 encode the token\n",
    "    base64_encoded_bearer_token = base64.b64encode(bearer_token.encode('utf-8'))\n",
    "    # set headers\n",
    "    headers = {\n",
    "        \"Authorization\": \"Basic \" + base64_encoded_bearer_token.decode('utf-8') + \"\",\n",
    "        \"Content-Type\": \"application/x-www-form-urlencoded;charset=UTF-8\",\n",
    "        \"Content-Length\": \"29\"}\n",
    "\n",
    "    response = requests.post(OAUTH2_TOKEN, headers=headers, data={'grant_type': 'client_credentials'})\n",
    "    to_json = response.json()\n",
    "    print(\"token_type = %s\\naccess_token  = %s\" % (to_json['token_type'], to_json['access_token']))"
   ]
  },
  {
   "cell_type": "code",
   "execution_count": 10,
   "metadata": {},
   "outputs": [],
   "source": [
    "consumer_key = 'insert_consumer_key_here'\n",
    "consumer_secret = 'insert_consumer_secret_here'"
   ]
  },
  {
   "cell_type": "code",
   "execution_count": 5,
   "metadata": {},
   "outputs": [
    {
     "name": "stdout",
     "output_type": "stream",
     "text": [
      "token_type = bearer\n",
      "access_token  = AAAAAAAAAAAAAAAAAAAAAN%2FX%2BAAAAAAAE6nRL3awxuYlmfDQthJspTHHbQw%3Dr0u7om0T7JuX2RK9JgBa4aegOZQtyc2q9aAL6OfDLpXc76rjxt\n"
     ]
    }
   ],
   "source": [
    "get_bearer_token(consumer_key, consumer_secret)"
   ]
  },
  {
   "cell_type": "code",
   "execution_count": 9,
   "metadata": {},
   "outputs": [
    {
     "data": {
      "text/plain": [
       "True"
      ]
     },
     "execution_count": 9,
     "metadata": {},
     "output_type": "execute_result"
    }
   ],
   "source": [
    "\":\".join([consumer_key, consumer_secret]) == consumer_key+':'+consumer_secret"
   ]
  },
  {
   "cell_type": "markdown",
   "metadata": {},
   "source": [
    "Ok now that we have the bearer token, we can move to try out making queries for search"
   ]
  },
  {
   "cell_type": "code",
   "execution_count": 2,
   "metadata": {},
   "outputs": [],
   "source": [
    "from searchtweets import ResultStream, gen_rule_payload, load_credentials, collect_results"
   ]
  },
  {
   "cell_type": "code",
   "execution_count": 67,
   "metadata": {},
   "outputs": [
    {
     "name": "stderr",
     "output_type": "stream",
     "text": [
      "Grabbing bearer token from OAUTH\n",
      "Grabbing bearer token from OAUTH\n"
     ]
    }
   ],
   "source": [
    "# setting the authenication methods for data\n",
    "\n",
    "premium_search_data = load_credentials(filename=\"~/.twitter_keys.yaml\",\n",
    "                                       yaml_key = 'search_tweets_api_data',\n",
    "                                       env_overwrite = False)\n",
    "\n",
    "premium_search_count = load_credentials(filename=\"~/.twitter_keys.yaml\",\n",
    "                                       yaml_key = 'search_tweets_api_count',\n",
    "                                       env_overwrite = False)"
   ]
  },
  {
   "cell_type": "code",
   "execution_count": 134,
   "metadata": {},
   "outputs": [],
   "source": [
    "# setting the rule for data\n",
    "rule = gen_rule_payload(\"artificial intelligence OR AI profile_country: UK\",\n",
    "                        from_date=\"2018-04-17\",\n",
    "                        to_date=\"2018-04-24\",\n",
    "                        results_per_call=100)"
   ]
  },
  {
   "cell_type": "code",
   "execution_count": 91,
   "metadata": {},
   "outputs": [],
   "source": [
    "# setting the rule for data\n",
    "rule = gen_rule_payload(\"#AI profile_country: DE\",\n",
    "                        from_date=\"2018-04-17\",\n",
    "                        to_date=\"2018-04-18\",\n",
    "                        results_per_call=100)"
   ]
  },
  {
   "cell_type": "code",
   "execution_count": 135,
   "metadata": {},
   "outputs": [],
   "source": [
    "tweets = collect_results(rule, max_results = 500, result_stream_args = premium_search_data)"
   ]
  },
  {
   "cell_type": "code",
   "execution_count": 136,
   "metadata": {},
   "outputs": [
    {
     "data": {
      "text/plain": [
       "500"
      ]
     },
     "execution_count": 136,
     "metadata": {},
     "output_type": "execute_result"
    }
   ],
   "source": [
    "len(tweets)"
   ]
  },
  {
   "cell_type": "code",
   "execution_count": 137,
   "metadata": {},
   "outputs": [
    {
     "name": "stdout",
     "output_type": "stream",
     "text": [
      "----------0----------\n",
      "The next chapter of #AI is more than just #technology , it's people skills &amp; #talent ... #FutureofWork #DigitalTransformation #fintech #insurtech #Industry40 \n",
      "\n",
      "@ipfconline1 @guzmand @SpirosMargaris @psb_dc @DianeKazarian @MarshaCollier @gp_pulipaka \n",
      "\n",
      "https://t.co/J6kq0HztH3 https://t.co/Y7WCYcZfwe\n",
      "----------1----------\n",
      "Artificial Emotion Intelligence: How It Can Enhance Our Lives, Advances Over The Past Few Decades, And Some Valid Concerns\n",
      "@issmexico @MarthaGGarcia @JorgeAlonsoD @Naomicolin_a  #FM #ISSWorld #ISS #ISSMéxico #WorkplaceManagement #PeopleManagement https://t.co/2d6QB6pKZA\n",
      "----------2----------\n",
      "Excellent, @McKinsey: Notes From The AI frontier - Insights From Hundreds Of Use Cases \n",
      "@McKinsey_MGI @McKAnalytics  \n",
      "#AI #MachineLearning #DeepLearning #BigData #Fintech #Insurtech #Datascience #Marketing #ML #DL #Robotics #HealthTech #martech \n",
      "#tech \n",
      "https://t.co/e9ykswVEqA https://t.co/OUlgTWYUMW\n",
      "----------3----------\n",
      "CIA Plans to Replace Spies with AI https://t.co/acirzC7qMb @thenextweb #AI #CIA #spies #espionage #security #terrorism #ML #tech #innovation\n",
      "----------4----------\n",
      "Can we weather the storm and survive an \"intelligent\" future? The Artificial Intelligence Future Forecast featuring #autonomous vehicles, Uber and more. #AI #ArtificialIntelligence via @101domain https://t.co/gSC1rObJ4C\n",
      "----------5----------\n",
      "How will military applications of #AI work - or not? Check out my new piece in @BulletinAtomic https://t.co/yLQzrsYYD5\n",
      "----------6----------\n",
      "How Data Scientists Are Helping Retailers Predict Purchases and Returns\n",
      "\n",
      "Read more here: https://t.co/chQ83U0xi2\n",
      "\n",
      "#ArtificialIntelligence #AI #DataScience #MachineLearning #BigData #DeepLearning #NLP #Robots #IoT\n",
      "----------7----------\n",
      "#Sandra is our fiction show starring Kristen Wiig and @ShawkatAlia that explores a world where artificial intelligence isn't so artificial...Listen to ALL episodes, right now: https://t.co/vjbAdUNoWM https://t.co/b2iszf4Ujz\n",
      "----------8----------\n",
      "Betting on improvements in artificial intelligence is not only Youtube's approach to dealing with problematic content; Facebook has also said it is counting on A.I. tools to detect fake accounts and fake news on its platform. https://t.co/9ODRsvIygi\n",
      "----------9----------\n",
      "'Westworld' and 'Ready Player One' show how our relationship to artificial intelligence has changed,https://t.co/ZBB1ADFyBw\n"
     ]
    }
   ],
   "source": [
    "for i, tweet in enumerate(tweets[0:10]):\n",
    "    print('----------{}----------'.format(i))\n",
    "    print(tweet.all_text) "
   ]
  },
  {
   "cell_type": "code",
   "execution_count": 63,
   "metadata": {
    "collapsed": true
   },
   "outputs": [
    {
     "data": {
      "text/plain": [
       "{'contributors': None,\n",
       " 'coordinates': None,\n",
       " 'created_at': 'Sun Apr 17 21:26:13 +0000 2016',\n",
       " 'entities': {'hashtags': [{'indices': [59, 67], 'text': 'startup'},\n",
       "   {'indices': [102, 105], 'text': 'IA'}],\n",
       "  'symbols': [],\n",
       "  'urls': [{'display_url': 'buff.ly/1Wunj2E',\n",
       "    'expanded_url': 'http://buff.ly/1Wunj2E',\n",
       "    'indices': [77, 100],\n",
       "    'unwound': {'description': None,\n",
       "     'status': None,\n",
       "     'title': None,\n",
       "     'url': None},\n",
       "    'url': 'https://t.co/grVfJ1nHhx'}],\n",
       "  'user_mentions': [{'id': 123287597,\n",
       "    'id_str': '123287597',\n",
       "    'indices': [3, 18],\n",
       "    'name': 'Pierre Cappelli',\n",
       "    'screen_name': 'pierrecappelli'},\n",
       "   {'id': 965694492,\n",
       "    'id_str': '965694492',\n",
       "    'indices': [106, 121],\n",
       "    'name': \"L'Usine Digitale\",\n",
       "    'screen_name': 'LUsineDigitale'}]},\n",
       " 'favorite_count': 0,\n",
       " 'favorited': False,\n",
       " 'filter_level': 'low',\n",
       " 'geo': None,\n",
       " 'id': 721812031754649601,\n",
       " 'id_str': '721812031754649601',\n",
       " 'in_reply_to_screen_name': None,\n",
       " 'in_reply_to_status_id': None,\n",
       " 'in_reply_to_status_id_str': None,\n",
       " 'in_reply_to_user_id': None,\n",
       " 'in_reply_to_user_id_str': None,\n",
       " 'is_quote_status': False,\n",
       " 'lang': 'fr',\n",
       " 'matching_rules': [{'tag': None}],\n",
       " 'place': None,\n",
       " 'possibly_sensitive': False,\n",
       " 'quote_count': 0,\n",
       " 'reply_count': 0,\n",
       " 'retweet_count': 0,\n",
       " 'retweeted': False,\n",
       " 'retweeted_status': {'contributors': None,\n",
       "  'coordinates': None,\n",
       "  'created_at': 'Sun Apr 17 19:59:23 +0000 2016',\n",
       "  'display_text_range': [0, 101],\n",
       "  'entities': {'hashtags': [{'indices': [39, 47], 'text': 'startup'},\n",
       "    {'indices': [82, 85], 'text': 'IA'}],\n",
       "   'media': [{'display_url': 'pic.twitter.com/luN4r2GsW1',\n",
       "     'expanded_url': 'https://twitter.com/pierrecappelli/status/721790178738728961/photo/1',\n",
       "     'id': 721790177295867904,\n",
       "     'id_str': '721790177295867904',\n",
       "     'indices': [102, 125],\n",
       "     'media_url': 'http://pbs.twimg.com/media/CgRQV5AWIAARR0c.jpg',\n",
       "     'media_url_https': 'https://pbs.twimg.com/media/CgRQV5AWIAARR0c.jpg',\n",
       "     'sizes': {'large': {'h': 618, 'resize': 'fit', 'w': 930},\n",
       "      'medium': {'h': 618, 'resize': 'fit', 'w': 930},\n",
       "      'small': {'h': 452, 'resize': 'fit', 'w': 680},\n",
       "      'thumb': {'h': 150, 'resize': 'crop', 'w': 150}},\n",
       "     'type': 'photo',\n",
       "     'url': 'https://t.co/luN4r2GsW1'}],\n",
       "   'symbols': [],\n",
       "   'urls': [{'display_url': 'buff.ly/1Wunj2E',\n",
       "     'expanded_url': 'http://buff.ly/1Wunj2E',\n",
       "     'indices': [57, 80],\n",
       "     'unwound': {'description': None,\n",
       "      'status': None,\n",
       "      'title': None,\n",
       "      'url': None},\n",
       "     'url': 'https://t.co/grVfJ1nHhx'}],\n",
       "   'user_mentions': [{'id': 965694492,\n",
       "     'id_str': '965694492',\n",
       "     'indices': [86, 101],\n",
       "     'name': \"L'Usine Digitale\",\n",
       "     'screen_name': 'LUsineDigitale'}]},\n",
       "  'extended_entities': {'media': [{'display_url': 'pic.twitter.com/luN4r2GsW1',\n",
       "     'expanded_url': 'https://twitter.com/pierrecappelli/status/721790178738728961/photo/1',\n",
       "     'id': 721790177295867904,\n",
       "     'id_str': '721790177295867904',\n",
       "     'indices': [102, 125],\n",
       "     'media_url': 'http://pbs.twimg.com/media/CgRQV5AWIAARR0c.jpg',\n",
       "     'media_url_https': 'https://pbs.twimg.com/media/CgRQV5AWIAARR0c.jpg',\n",
       "     'sizes': {'large': {'h': 618, 'resize': 'fit', 'w': 930},\n",
       "      'medium': {'h': 618, 'resize': 'fit', 'w': 930},\n",
       "      'small': {'h': 452, 'resize': 'fit', 'w': 680},\n",
       "      'thumb': {'h': 150, 'resize': 'crop', 'w': 150}},\n",
       "     'type': 'photo',\n",
       "     'url': 'https://t.co/luN4r2GsW1'}]},\n",
       "  'favorite_count': 17,\n",
       "  'favorited': False,\n",
       "  'filter_level': 'low',\n",
       "  'geo': None,\n",
       "  'id': 721790178738728961,\n",
       "  'id_str': '721790178738728961',\n",
       "  'in_reply_to_screen_name': None,\n",
       "  'in_reply_to_status_id': None,\n",
       "  'in_reply_to_status_id_str': None,\n",
       "  'in_reply_to_user_id': None,\n",
       "  'in_reply_to_user_id_str': None,\n",
       "  'is_quote_status': False,\n",
       "  'lang': 'fr',\n",
       "  'place': None,\n",
       "  'possibly_sensitive': False,\n",
       "  'quote_count': 0,\n",
       "  'reply_count': 0,\n",
       "  'retweet_count': 13,\n",
       "  'retweeted': False,\n",
       "  'source': '<a href=\"http://twitter.com\" rel=\"nofollow\">Twitter Web Client</a>',\n",
       "  'text': '(R) Intelligence artificielle : les 10 #startup à suivre https://t.co/grVfJ1nHhx  #IA @LUsineDigitale https://t.co/luN4r2GsW1',\n",
       "  'truncated': False,\n",
       "  'user': {'contributors_enabled': False,\n",
       "   'created_at': 'Mon Mar 15 16:13:29 +0000 2010',\n",
       "   'default_profile': False,\n",
       "   'default_profile_image': False,\n",
       "   'description': 'Digital & Innovation Manager #TransfoNum #Digital / #IA / #tech /\\nActivateur #FranceNum / #FrenchTech  -#i4Emploi - #612R /     \\nex @Inria_Lille  - #Team974',\n",
       "   'favourites_count': 66948,\n",
       "   'follow_request_sent': None,\n",
       "   'followers_count': 31164,\n",
       "   'following': None,\n",
       "   'friends_count': 14525,\n",
       "   'geo_enabled': True,\n",
       "   'id': 123287597,\n",
       "   'id_str': '123287597',\n",
       "   'is_translator': False,\n",
       "   'lang': 'fr',\n",
       "   'listed_count': 2434,\n",
       "   'location': 'La Réunion',\n",
       "   'name': 'Pierre Cappelli',\n",
       "   'notifications': None,\n",
       "   'profile_background_color': 'C0DEED',\n",
       "   'profile_background_image_url': 'http://abs.twimg.com/images/themes/theme1/bg.png',\n",
       "   'profile_background_image_url_https': 'https://abs.twimg.com/images/themes/theme1/bg.png',\n",
       "   'profile_background_tile': True,\n",
       "   'profile_banner_url': 'https://pbs.twimg.com/profile_banners/123287597/1554292312',\n",
       "   'profile_image_url': 'http://pbs.twimg.com/profile_images/997914532516388864/AbTYoNbb_normal.jpg',\n",
       "   'profile_image_url_https': 'https://pbs.twimg.com/profile_images/997914532516388864/AbTYoNbb_normal.jpg',\n",
       "   'profile_link_color': '1B95E0',\n",
       "   'profile_sidebar_border_color': 'FFFFFF',\n",
       "   'profile_sidebar_fill_color': 'DDEEF6',\n",
       "   'profile_text_color': '333333',\n",
       "   'profile_use_background_image': True,\n",
       "   'protected': False,\n",
       "   'screen_name': 'pierrecappelli',\n",
       "   'statuses_count': 93570,\n",
       "   'time_zone': None,\n",
       "   'translator_type': 'none',\n",
       "   'url': 'http://www.pierre-cappelli.fr',\n",
       "   'utc_offset': None,\n",
       "   'verified': False}},\n",
       " 'source': '<a href=\"http://twitter.com/download/iphone\" rel=\"nofollow\">Twitter for iPhone</a>',\n",
       " 'text': 'RT @pierrecappelli: (R) Intelligence artificielle : les 10 #startup à suivre https://t.co/grVfJ1nHhx  #IA @LUsineDigitale https://t.co/luN4…',\n",
       " 'truncated': False,\n",
       " 'user': {'contributors_enabled': False,\n",
       "  'created_at': 'Mon Feb 02 09:08:11 +0000 2015',\n",
       "  'default_profile': True,\n",
       "  'default_profile_image': False,\n",
       "  'derived': {'locations': [{'country': 'France',\n",
       "     'country_code': 'FR',\n",
       "     'full_name': 'Paris, Île-de-France, France',\n",
       "     'geo': {'coordinates': [2.3487999999999998, 48.85341], 'type': 'point'},\n",
       "     'locality': 'Paris',\n",
       "     'region': 'Île-de-France',\n",
       "     'sub_region': 'Paris'}]},\n",
       "  'description': \"Fiches pratiques entreprenariat : création, expansion et vie d'une société. #startup #innovation #mooc #entrepreneur #frenchtech #fintech #bigdata By @toniojj\",\n",
       "  'favourites_count': 98,\n",
       "  'follow_request_sent': None,\n",
       "  'followers_count': 2310,\n",
       "  'following': None,\n",
       "  'friends_count': 4584,\n",
       "  'geo_enabled': False,\n",
       "  'id': 3007714536,\n",
       "  'id_str': '3007714536',\n",
       "  'is_translator': False,\n",
       "  'lang': 'fr',\n",
       "  'listed_count': 1189,\n",
       "  'location': 'Paris, Bordeaux',\n",
       "  'name': 'PenserEntreprenariat',\n",
       "  'notifications': None,\n",
       "  'profile_background_color': 'C0DEED',\n",
       "  'profile_background_image_url': 'http://abs.twimg.com/images/themes/theme1/bg.png',\n",
       "  'profile_background_image_url_https': 'https://abs.twimg.com/images/themes/theme1/bg.png',\n",
       "  'profile_background_tile': False,\n",
       "  'profile_banner_url': 'https://pbs.twimg.com/profile_banners/3007714536/1422868426',\n",
       "  'profile_image_url': 'http://pbs.twimg.com/profile_images/562176561902653440/0heN_Cdg_normal.png',\n",
       "  'profile_image_url_https': 'https://pbs.twimg.com/profile_images/562176561902653440/0heN_Cdg_normal.png',\n",
       "  'profile_link_color': '1DA1F2',\n",
       "  'profile_sidebar_border_color': 'C0DEED',\n",
       "  'profile_sidebar_fill_color': 'DDEEF6',\n",
       "  'profile_text_color': '333333',\n",
       "  'profile_use_background_image': True,\n",
       "  'protected': False,\n",
       "  'screen_name': 'Entreprenariat1',\n",
       "  'statuses_count': 4658,\n",
       "  'time_zone': None,\n",
       "  'translator_type': 'none',\n",
       "  'url': 'http://www.penser-entreprenariat.fr/',\n",
       "  'utc_offset': None,\n",
       "  'verified': False}}"
      ]
     },
     "execution_count": 63,
     "metadata": {},
     "output_type": "execute_result"
    }
   ],
   "source": [
    "tweets[0]"
   ]
  },
  {
   "cell_type": "code",
   "execution_count": 93,
   "metadata": {},
   "outputs": [
    {
     "data": {
      "text/plain": [
       "list"
      ]
     },
     "execution_count": 93,
     "metadata": {},
     "output_type": "execute_result"
    }
   ],
   "source": [
    "type(tweets)"
   ]
  },
  {
   "cell_type": "code",
   "execution_count": 94,
   "metadata": {},
   "outputs": [],
   "source": [
    "import datetime"
   ]
  },
  {
   "cell_type": "code",
   "execution_count": 127,
   "metadata": {},
   "outputs": [],
   "source": [
    "date = datetime.datetime.strptime(\"2016-04-17\", \"%Y-%m-%d\")"
   ]
  },
  {
   "cell_type": "code",
   "execution_count": 130,
   "metadata": {},
   "outputs": [],
   "source": [
    "date2 = date + datetime.timedelta(days = 21)"
   ]
  },
  {
   "cell_type": "code",
   "execution_count": 131,
   "metadata": {},
   "outputs": [
    {
     "data": {
      "text/plain": [
       "(datetime.datetime(2016, 4, 17, 0, 0), datetime.datetime(2016, 5, 8, 0, 0))"
      ]
     },
     "execution_count": 131,
     "metadata": {},
     "output_type": "execute_result"
    }
   ],
   "source": [
    "date, date2"
   ]
  },
  {
   "cell_type": "code",
   "execution_count": 111,
   "metadata": {},
   "outputs": [],
   "source": [
    "num_days = (date2-date).days + 1"
   ]
  },
  {
   "cell_type": "code",
   "execution_count": 112,
   "metadata": {},
   "outputs": [
    {
     "data": {
      "text/plain": [
       "0"
      ]
     },
     "execution_count": 112,
     "metadata": {},
     "output_type": "execute_result"
    }
   ],
   "source": [
    "num_days % 3"
   ]
  },
  {
   "cell_type": "code",
   "execution_count": 116,
   "metadata": {},
   "outputs": [
    {
     "data": {
      "text/plain": [
       "'2018-02-02'"
      ]
     },
     "execution_count": 116,
     "metadata": {},
     "output_type": "execute_result"
    }
   ],
   "source": [
    "str(date)[:10]"
   ]
  },
  {
   "cell_type": "code",
   "execution_count": 133,
   "metadata": {},
   "outputs": [
    {
     "data": {
      "text/plain": [
       "'../data/data2'"
      ]
     },
     "execution_count": 133,
     "metadata": {},
     "output_type": "execute_result"
    }
   ],
   "source": [
    "import os\n",
    "os.path.join(\"../data\", 'data2')"
   ]
  },
  {
   "cell_type": "code",
   "execution_count": null,
   "metadata": {},
   "outputs": [],
   "source": []
  }
 ],
 "metadata": {
  "kernelspec": {
   "display_name": "Python 3",
   "language": "python",
   "name": "python3"
  },
  "language_info": {
   "codemirror_mode": {
    "name": "ipython",
    "version": 3
   },
   "file_extension": ".py",
   "mimetype": "text/x-python",
   "name": "python",
   "nbconvert_exporter": "python",
   "pygments_lexer": "ipython3",
   "version": "3.6.4"
  }
 },
 "nbformat": 4,
 "nbformat_minor": 2
}
