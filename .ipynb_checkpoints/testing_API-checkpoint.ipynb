{
 "cells": [
  {
   "cell_type": "markdown",
   "metadata": {},
   "source": [
    "### this section we test out getting a bearer token"
   ]
  },
  {
   "cell_type": "code",
   "execution_count": 1,
   "metadata": {},
   "outputs": [],
   "source": [
    "import base64\n",
    "import requests\n",
    "import urllib.parse"
   ]
  },
  {
   "cell_type": "code",
   "execution_count": 2,
   "metadata": {},
   "outputs": [],
   "source": [
    "OAUTH2_TOKEN = 'https://api.twitter.com/oauth2/token'"
   ]
  },
  {
   "cell_type": "code",
   "execution_count": 3,
   "metadata": {},
   "outputs": [],
   "source": [
    "def get_bearer_token(consumer_key, consumer_secret):\n",
    "    # enconde consumer key\n",
    "    consumer_key = urllib.parse.quote(consumer_key)\n",
    "    # encode consumer secret\n",
    "    consumer_secret = urllib.parse.quote(consumer_secret)\n",
    "    # create bearer token\n",
    "    bearer_token = consumer_key + ':' + consumer_secret\n",
    "    # base64 encode the token\n",
    "    base64_encoded_bearer_token = base64.b64encode(bearer_token.encode('utf-8'))\n",
    "    # set headers\n",
    "    headers = {\n",
    "        \"Authorization\": \"Basic \" + base64_encoded_bearer_token.decode('utf-8') + \"\",\n",
    "        \"Content-Type\": \"application/x-www-form-urlencoded;charset=UTF-8\",\n",
    "        \"Content-Length\": \"29\"}\n",
    "\n",
    "    response = requests.post(OAUTH2_TOKEN, headers=headers, data={'grant_type': 'client_credentials'})\n",
    "    to_json = response.json()\n",
    "    print(\"token_type = %s\\naccess_token  = %s\" % (to_json['token_type'], to_json['access_token']))"
   ]
  },
  {
   "cell_type": "code",
   "execution_count": 10,
   "metadata": {},
   "outputs": [],
   "source": [
    "consumer_key = 'insert_consumer_key_here'\n",
    "consumer_secret = 'insert_consumer_secret_here'"
   ]
  },
  {
   "cell_type": "code",
   "execution_count": 5,
   "metadata": {},
   "outputs": [
    {
     "name": "stdout",
     "output_type": "stream",
     "text": [
      "token_type = bearer\n",
      "access_token  = AAAAAAAAAAAAAAAAAAAAAN%2FX%2BAAAAAAAE6nRL3awxuYlmfDQthJspTHHbQw%3Dr0u7om0T7JuX2RK9JgBa4aegOZQtyc2q9aAL6OfDLpXc76rjxt\n"
     ]
    }
   ],
   "source": [
    "get_bearer_token(consumer_key, consumer_secret)"
   ]
  },
  {
   "cell_type": "code",
   "execution_count": 9,
   "metadata": {},
   "outputs": [
    {
     "data": {
      "text/plain": [
       "True"
      ]
     },
     "execution_count": 9,
     "metadata": {},
     "output_type": "execute_result"
    }
   ],
   "source": [
    "\":\".join([consumer_key, consumer_secret]) == consumer_key+':'+consumer_secret"
   ]
  },
  {
   "cell_type": "markdown",
   "metadata": {},
   "source": [
    "Ok now that we have the bearer token, we can move to try out making queries for search"
   ]
  },
  {
   "cell_type": "code",
   "execution_count": null,
   "metadata": {},
   "outputs": [],
   "source": []
  }
 ],
 "metadata": {
  "kernelspec": {
   "display_name": "Python 3",
   "language": "python",
   "name": "python3"
  },
  "language_info": {
   "codemirror_mode": {
    "name": "ipython",
    "version": 3
   },
   "file_extension": ".py",
   "mimetype": "text/x-python",
   "name": "python",
   "nbconvert_exporter": "python",
   "pygments_lexer": "ipython3",
   "version": "3.6.4"
  }
 },
 "nbformat": 4,
 "nbformat_minor": 2
}
